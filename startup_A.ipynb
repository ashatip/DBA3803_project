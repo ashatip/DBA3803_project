{
 "cells": [
  {
   "cell_type": "markdown",
   "metadata": {},
   "source": [
    "%% [markdown]"
   ]
  },
  {
   "cell_type": "code",
   "execution_count": null,
   "metadata": {
    "lines_to_next_cell": 2
   },
   "outputs": [],
   "source": [
    "# This is Ahmets script for looking at the files\n",
    "# %%\n",
    "\"\"\"File analyst\"\"\"\n",
    "import os\n",
    "import pandas as pd\n",
    "import numpy as np\n",
    "import matplotlib.pyplot as plt\n",
    "# I make the data local on my machine will change it soon\n",
    "plt.rc_context({'axes.edgecolor': 'orange',\n",
    "                'xtick.color': 'red', 'ytick.color': 'green',\n",
    "                'figure.facecolor': 'white'})\n",
    "# import matplotlib.ticker as ticker\n",
    "plt.figure(num=None, figsize=(8, 6), dpi=80, facecolor='w', edgecolor='k')\n",
    "plt.rcParams['figure.figsize'] = 11, 5\n",
    "plt.rcParams['lines.linewidth'] = 1\n",
    "plt.rcParams['lines.markersize'] = 1"
   ]
  },
  {
   "cell_type": "code",
   "execution_count": null,
   "metadata": {},
   "outputs": [],
   "source": [
    "DIR = os.path.dirname(os.path.realpath(__file__))\n",
    "DF1 = pd.read_csv(DIR + \"/DATA/Financial_Info_SG_Firms_Combined.csv\")"
   ]
  },
  {
   "cell_type": "markdown",
   "metadata": {},
   "source": [
    "remove all nans"
   ]
  },
  {
   "cell_type": "markdown",
   "metadata": {
    "lines_to_next_cell": 2
   },
   "source": [
    "%%"
   ]
  },
  {
   "cell_type": "code",
   "execution_count": null,
   "metadata": {},
   "outputs": [],
   "source": [
    "def view_df(df_v):\n",
    "    \"\"\"Function for viewing the columns of the data frame and deciding to keep\n",
    "    or remove\"\"\"\n",
    "    # remove na and duplicate rows\n",
    "    df_v.dropna(axis=0, how=\"all\", inplace=True)\n",
    "    df_v.dropna(axis=1, how=\"all\", inplace=True)\n",
    "    # not sure but, I think duplicate data is useless\n",
    "    df_v.drop_duplicates(inplace=True, ignore_index=True)\n",
    "    df_v = df_v.loc[:, ~df_v.columns.duplicated()]\n",
    "    print(df_v.shape)\n",
    "    id_v = []\n",
    "    keep = []\n",
    "    remove = []\n",
    "    location = []\n",
    "    time = []\n",
    "    for i in list(df_v):\n",
    "        print(\"*****\")\n",
    "        print(\"COL: \", i)\n",
    "        i_type = df_v[i].dtypes\n",
    "        print(\"Type\", i_type)\n",
    "        print(\"% of NA\", df_v[i].isna().sum()*100/len(df_v[i]))\n",
    "        print(\"number of unique values: \", df_v[i].nunique())\n",
    "        num_print = 5\n",
    "        if num_print > df_v[i].nunique():\n",
    "            num_print = df_v[i].nunique()\n",
    "        print(\"some example values\", df_v[i].unique()[:num_print])\n",
    "        if np.issubdtype(df_v[i].dtype, np.number):\n",
    "            plt.hist(df_v[i])\n",
    "            plt.show()\n",
    "        sub = input(\"Is the column a: \\n l for location \\n k for keep \\n r fo\"\n",
    "                    + \"remove \\n i for id \\n t for time\")\n",
    "        if sub[0] == \"l\":\n",
    "            location.append(i)\n",
    "        elif sub[0] == \"k\":\n",
    "            keep.append(i)\n",
    "        elif sub[0] == \"r\":\n",
    "            remove.append(i)\n",
    "        elif sub[0] == \"i\":\n",
    "            id_v.append(i)\n",
    "        elif sub[0] == \"t\":\n",
    "            time.append(i)\n",
    "        print(\"*****\")\n",
    "    return keep, id_v, time, location, remove"
   ]
  },
  {
   "cell_type": "code",
   "execution_count": null,
   "metadata": {},
   "outputs": [],
   "source": [
    "# %%\n",
    "KEEP, ID_V, TIME, LOCATION, REMOVE = view_df(DF1)"
   ]
  }
 ],
 "metadata": {
  "kernelspec": {
   "display_name": "Python 3",
   "language": "python",
   "name": "python3"
  }
 },
 "nbformat": 4,
 "nbformat_minor": 4
}
