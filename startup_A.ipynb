{
 "cells": [
  {
   "cell_type": "markdown",
   "metadata": {},
   "source": [
    "%% [markdown]"
   ]
  },
  {
   "cell_type": "code",
   "execution_count": null,
   "metadata": {},
   "outputs": [],
   "source": [
    "# This is Ahmets script for looking at the files\n",
    "# %%\n",
    "\"\"\"File analyst\"\"\"\n",
    "import pandas as pd\n",
    "DF = pd.read_csv(\"~/Desktop/DBA3803/group_assign/Financial_Info_SG_Firms_Combined.csv\")"
   ]
  },
  {
   "cell_type": "code",
   "execution_count": null,
   "metadata": {},
   "outputs": [],
   "source": [
    "# %%\n",
    "print(\"COLS Num\", len(DF.columns))\n",
    "#remove all nans\n",
    "DF.dropna()"
   ]
  }
 ],
 "metadata": {
  "kernelspec": {
   "display_name": "Python 3",
   "language": "python",
   "name": "python3"
  }
 },
 "nbformat": 4,
 "nbformat_minor": 4
}
